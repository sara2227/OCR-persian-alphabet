{
 "cells": [
  {
   "cell_type": "code",
   "execution_count": 1,
   "metadata": {},
   "outputs": [],
   "source": [
    "import matplotlib.pyplot as plt\n",
    "import matplotlib.image as mpimg\n",
    "%matplotlib inline\n",
    "from sklearn.decomposition import PCA\n",
    "from sklearn.preprocessing import normalize\n",
    "from sklearn.model_selection import train_test_split\n",
    "from sklearn.preprocessing import StandardScaler\n",
    "from sklearn.decomposition import TruncatedSVD\n",
    "import pandas as pd\n",
    "from sklearn.metrics import confusion_matrix,classification_report\n",
    "\n",
    "import math\n",
    "from numpy.linalg import inv\n",
    "from PIL import Image\n",
    "import glob\n",
    "import scipy\n",
    "import imageio\n",
    "from scipy import misc\n",
    "import numpy as np"
   ]
  },
  {
   "cell_type": "code",
   "execution_count": 2,
   "metadata": {},
   "outputs": [],
   "source": [
    "dic_label = {'Alef':0, 'Be':1,'Ain':2,'Dal':3,'Fe':4,'Ghe':5,'Ha':6,'Hamze':7,\n",
    "            'He':8,'Kaf':9,'Lam':10,'Mim':11,'Noon':12,'Re':13,'Sad':14,\n",
    "            'Sin':15,'Ta':16,'Vav':17,'Ya':18}"
   ]
  },
  {
   "cell_type": "code",
   "execution_count": 3,
   "metadata": {},
   "outputs": [],
   "source": [
    "def normalization(matrix):\n",
    "    \n",
    "    sc = StandardScaler()  \n",
    "    norm_matrix = sc.fit_transform(matrix)  \n",
    "\n",
    "    return norm_matrix"
   ]
  },
  {
   "cell_type": "code",
   "execution_count": 4,
   "metadata": {},
   "outputs": [],
   "source": [
    "#i use the LOCI algorithm to extract features from image \n",
    "def feature_extraction(matrix,filename):\n",
    "    \n",
    "    b0 = 0\n",
    "    b1 = 0\n",
    "    b2 = 0\n",
    "    b3 = 0\n",
    "    filename = filename\n",
    "    B = matrix\n",
    "    feature_vector = 81*[0]\n",
    "\n",
    "    for i in np.ndindex(B.shape):\n",
    "        row,col = i\n",
    "        \n",
    "        if B[row][col]==0:\n",
    "            \n",
    "            for j in range(col,(B.shape[1]-1)):\n",
    "                if B[row][j] == 0 and B[row][j+1]==255: #go right\n",
    "                    b0 += 1\n",
    "            for j in range(col,0,-1):\n",
    "                if B[row][j] == 0 and B[row][j-1]==255: #go left\n",
    "                    b2 += 1 \n",
    "            for j in range(row,(B.shape[0]-1)):  #go down\n",
    "                if B[j][col] == 0 and B[j+1][col] ==255:\n",
    "                    b3 +=1\n",
    "            for j in range(row,0,-1): #go up\n",
    "                if B[j][col] == 0 and B[j-1][col] ==255:\n",
    "                    b1 +=1\n",
    "                    \n",
    "            s = np.array([b0,b1,b2,b3]) #[b0,b1,b2,b3]\n",
    "            b0 = 0\n",
    "            b1 = 0\n",
    "            b2 = 0\n",
    "            b3 = 0\n",
    "            s = np.where(s>2,2,s)      #if the number of 1 more that 2 set 2\n",
    "            mabna = s[3]*(3**0) + s[2]*(3**1) + s[1]*(3**2) + s[0]*(3**3)   #convert to 10 base\n",
    "            feature_vector[mabna] += 1 \n",
    "\n",
    "    label = filename[9:]  ## set label\n",
    "    label = label.split('.') \n",
    "    label = label[0]\n",
    "    label = dic_label[label]\n",
    "    \n",
    "    feature_vector = np.append(feature_vector,label)\n",
    "\n",
    "    return feature_vector\n"
   ]
  },
  {
   "cell_type": "code",
   "execution_count": 5,
   "metadata": {},
   "outputs": [],
   "source": [
    "def get_means(dataset):\n",
    "    \n",
    "    for item in dataset.keys():\n",
    "        \n",
    "        values_of_class = dataset.get(item)\n",
    "        mean_of_class = np.mean(values_of_class,axis=0)\n",
    "        cov = get_covariance(values_of_class,mean_of_class)\n",
    "        d = dict_of_means(item,mean_of_class)\n",
    "        c = dict_of_covs(item,cov)\n",
    "\n",
    "    \n",
    "    return d,c"
   ]
  },
  {
   "cell_type": "code",
   "execution_count": 6,
   "metadata": {},
   "outputs": [],
   "source": [
    "means = {}\n",
    "\n",
    "def dict_of_means(item,mean_of_class):\n",
    "    \n",
    "    vector = mean_of_class\n",
    "    if item not in means:\n",
    "        means[item] = []\n",
    "    means[item].append(vector)\n",
    "    \n",
    "    return means"
   ]
  },
  {
   "cell_type": "code",
   "execution_count": 7,
   "metadata": {},
   "outputs": [],
   "source": [
    "covariance={}\n",
    "\n",
    "def dict_of_covs(item,cov):\n",
    "    vector = cov\n",
    "    if item not in covariance:\n",
    "        covariance[item] = []\n",
    "    covariance[item].append(vector)\n",
    "    return covariance"
   ]
  },
  {
   "cell_type": "code",
   "execution_count": 8,
   "metadata": {},
   "outputs": [],
   "source": [
    "def get_covariance(values,mu):\n",
    "    \n",
    "    covmatrix = np.cov(np.stack(values).T)\n",
    "    \n",
    "    return covmatrix"
   ]
  },
  {
   "cell_type": "code",
   "execution_count": 9,
   "metadata": {},
   "outputs": [],
   "source": [
    "def make_dataset():\n",
    "    \n",
    "    image_list = []\n",
    "    data_set = []\n",
    "    separated = {}\n",
    "    dataset = np.empty((0,82),int)\n",
    "\n",
    "    for filename in glob.glob('pattern2/*.jpg'): \n",
    "        \n",
    "        matrixofimg = imageio.imread(filename)\n",
    "        matrixofimg = np.where(matrixofimg>210,255,matrixofimg)\n",
    "        matrixofimg = np.where(matrixofimg<=10,0,matrixofimg)\n",
    "        \n",
    "        data_set = feature_extraction(matrixofimg,filename)\n",
    "        dataset = np.append(dataset,[data_set],axis=0)\n",
    "    \n",
    "    return dataset"
   ]
  },
  {
   "cell_type": "code",
   "execution_count": 10,
   "metadata": {},
   "outputs": [],
   "source": [
    "def dimension_reduction(dataset_x):\n",
    "    \n",
    "    tsvd = TruncatedSVD(n_components=13)\n",
    "    X_sparse_tsvd = tsvd.fit(dataset_x).transform(dataset_x)\n",
    "\n",
    "    print('explained_variance_ratio_[0:13]',tsvd.explained_variance_ratio_[0:13].sum())\n",
    "    \n",
    "    return X_sparse_tsvd"
   ]
  },
  {
   "cell_type": "code",
   "execution_count": 11,
   "metadata": {},
   "outputs": [],
   "source": [
    "def mean_covariance(data):\n",
    "    means = {}\n",
    "    covariance = {}\n",
    "    dictionary_of_means,dictionary_of_cov = get_means(data)\n",
    "    mu=dictionary_of_means\n",
    "    covariance=dictionary_of_cov  \n",
    "    return mu,covariance"
   ]
  },
  {
   "cell_type": "code",
   "execution_count": 12,
   "metadata": {},
   "outputs": [],
   "source": [
    "separated = {}\n",
    "\n",
    "def separateByClass(dataset):\n",
    "\n",
    "    for item in dataset:\n",
    "        if item[-1] not in separated:\n",
    "            separated[int(item[-1])] = []\n",
    "        separated[int(item[-1])].append(item[0:-1])\n",
    "    return separated"
   ]
  },
  {
   "cell_type": "code",
   "execution_count": 13,
   "metadata": {},
   "outputs": [],
   "source": [
    "#Bayesian Classifier \n",
    "def calculate_probe(x,mu,cov):\n",
    "    x = x\n",
    "    mu = mu\n",
    "    cov = cov\n",
    "    l = len(mu)\n",
    "    y_pred = []\n",
    "    for item in x:\n",
    "        prob_arr = []\n",
    "\n",
    "        for i in range(l):\n",
    "            \n",
    "            sub = np.subtract(item,mu[i]) #x-mu 1*10\n",
    "            icov = np.linalg.inv(cov[i][0])\n",
    "            prob = np.matmul(sub,icov)\n",
    "            prob1 = -(np.matmul(prob,sub.T))\n",
    "            prob1 = float(prob1)\n",
    "            prob_arr = np.append(prob_arr,[prob1],axis=0)\n",
    "            prob_arr = prob_arr.astype('int64')\n",
    " \n",
    "        label = np.argmax(prob_arr)\n",
    "        y_pred = np.append(y_pred,[label],axis=0)\n",
    "\n",
    "    return y_pred"
   ]
  },
  {
   "cell_type": "code",
   "execution_count": 37,
   "metadata": {},
   "outputs": [],
   "source": [
    "def test_train_split(dataset):\n",
    "        \n",
    "    x = dataset[:,0:81]\n",
    "    y = dataset[:,-1]\n",
    "    \n",
    "    x = normalization(x)\n",
    "    x = dimension_reduction(x)\n",
    "    x_train,x_test,y_train,y_test = train_test_split(x,y,test_size = 0.30,random_state = 42,stratify = y)    \n",
    "    y_train1 = np.reshape(y_train,(len(y_train),1))\n",
    "    \n",
    "    dataset_train = np.hstack((x_train,y_train1))\n",
    "    \n",
    "    dict_of_x_train = separateByClass(dataset_train)\n",
    "\n",
    "    return dict_of_x_train,x_train,y_train,x_test,y_test"
   ]
  },
  {
   "cell_type": "code",
   "execution_count": 15,
   "metadata": {},
   "outputs": [],
   "source": [
    "dataset = make_dataset()"
   ]
  },
  {
   "cell_type": "code",
   "execution_count": 38,
   "metadata": {},
   "outputs": [
    {
     "name": "stderr",
     "output_type": "stream",
     "text": [
      "C:\\ProgramData\\Anaconda3\\lib\\site-packages\\sklearn\\utils\\validation.py:475: DataConversionWarning: Data with input dtype int32 was converted to float64 by StandardScaler.\n",
      "  warnings.warn(msg, DataConversionWarning)\n"
     ]
    },
    {
     "name": "stdout",
     "output_type": "stream",
     "text": [
      "explained_variance_ratio_[0:13] 0.6773726178130418\n",
      "explained_variance_ratio_[0:13] 0.6773688022535338\n",
      "explained_variance_ratio_[0:13] 0.6773572837061085\n",
      "explained_variance_ratio_[0:13] 0.6773775655635367\n",
      "explained_variance_ratio_[0:13] 0.6773797700234061\n",
      "explained_variance_ratio_[0:13] 0.6773655038017852\n",
      "[0.93023256 0.93023256 0.93023256 0.93023256 0.93023256 0.93023256]\n",
      "\n",
      " Total accuracy:  0.9302325581395349\n"
     ]
    }
   ],
   "source": [
    "total_acc = []\n",
    "iteration = 0\n",
    "while iteration <= 5:\n",
    "    \n",
    "    dict_of_x_train,x_train,y_train,x_test,y_test = test_train_split(dataset)\n",
    "    means = {}\n",
    "    covariance = {}\n",
    "    dict_of_mean,dictionary_of_cov = get_means(dict_of_x_train)\n",
    "    y_pred = calculate_probe(x_test,dict_of_mean,dictionary_of_cov)\n",
    "    accuracy = np.mean(y_pred == y_test)\n",
    "    \n",
    "    total_acc = np.append(total_acc,[accuracy],axis=0)\n",
    "    iteration += 1\n",
    "    \n",
    "print(total_acc)\n",
    "print(\"\\n Total accuracy: \", np.mean(total_acc))"
   ]
  },
  {
   "cell_type": "code",
   "execution_count": 30,
   "metadata": {},
   "outputs": [
    {
     "data": {
      "image/png": "[encoded data removed]",
      "text/plain": [
       "<Figure size 360x360 with 2 Axes>"
      ]
     },
     "metadata": {},
     "output_type": "display_data"
    }
   ],
   "source": [
    "cm = confusion_matrix(y_test,y_pred)\n",
    "plt.figure(figsize=(5,5))\n",
    "plt.imshow(cm,cmap=plt.cm.Blues,interpolation='nearest')\n",
    "plt.xticks(range(19))\n",
    "plt.yticks(range(19))\n",
    "plt.colorbar()\n",
    "plt.show()"
   ]
  }
 ],
 "metadata": {
  "kernelspec": {
   "display_name": "Python 3",
   "language": "python",
   "name": "python3"
  },
  "language_info": {
   "codemirror_mode": {
    "name": "ipython",
    "version": 3
   },
   "file_extension": ".py",
   "mimetype": "text/x-python",
   "name": "python",
   "nbconvert_exporter": "python",
   "pygments_lexer": "ipython3",
   "version": "3.7.1"
  }
 },
 "nbformat": 4,
 "nbformat_minor": 2
}
